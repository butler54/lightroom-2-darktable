{
 "cells": [
  {
   "cell_type": "code",
   "execution_count": 9,
   "id": "235fac1d-90cd-4733-b1b3-285c6127beae",
   "metadata": {},
   "outputs": [],
   "source": [
    "import ray\n",
    "import modin\n",
    "import pathlib\n",
    "import sqlite3\n",
    "import tqdm\n",
    "import pandas\n",
    "from rich import print"
   ]
  },
  {
   "cell_type": "code",
   "execution_count": 18,
   "id": "c2acd0f4-2174-46ab-96ef-016c70a9f1d3",
   "metadata": {},
   "outputs": [],
   "source": [
    "def list_tables(lrcat: pathlib.Path) -> None:\n",
    "    conn = sqlite3.connect(lrcat)\n",
    "    cursor = conn.cursor()\n",
    "\n",
    "    # Execute the query to get all table names\n",
    "    cursor.execute(\"SELECT * FROM sqlite_master WHERE type='table';\")\n",
    "    tables = cursor.fetchall()\n",
    "    for table in tables:\n",
    "        print(f'Table: {table[1]} rows: {table[3]}')\n",
    "    conn.close()\n",
    "\n"
   ]
  },
  {
   "cell_type": "code",
   "execution_count": 19,
   "id": "087d1d35-3a2b-4e8e-acd2-5c74a588ad98",
   "metadata": {},
   "outputs": [
    {
     "ename": "RuntimeError",
     "evalue": "Maybe you called ray.init twice by accident? This error can be suppressed by passing in 'ignore_reinit_error=True' or by calling 'ray.shutdown()' prior to 'ray.init()'.",
     "output_type": "error",
     "traceback": [
      "\u001b[31m---------------------------------------------------------------------------\u001b[39m",
      "\u001b[31mRuntimeError\u001b[39m                              Traceback (most recent call last)",
      "\u001b[36mCell\u001b[39m\u001b[36m \u001b[39m\u001b[32mIn[19]\u001b[39m\u001b[32m, line 1\u001b[39m\n\u001b[32m----> \u001b[39m\u001b[32m1\u001b[39m \u001b[43mray\u001b[49m\u001b[43m.\u001b[49m\u001b[43minit\u001b[49m\u001b[43m(\u001b[49m\u001b[43m)\u001b[49m\n",
      "\u001b[36mFile \u001b[39m\u001b[32m~/venv_312/lib64/python3.12/site-packages/ray/_private/client_mode_hook.py:103\u001b[39m, in \u001b[36mclient_mode_hook.<locals>.wrapper\u001b[39m\u001b[34m(*args, **kwargs)\u001b[39m\n\u001b[32m    101\u001b[39m     \u001b[38;5;28;01mif\u001b[39;00m func.\u001b[34m__name__\u001b[39m != \u001b[33m\"\u001b[39m\u001b[33minit\u001b[39m\u001b[33m\"\u001b[39m \u001b[38;5;129;01mor\u001b[39;00m is_client_mode_enabled_by_default:\n\u001b[32m    102\u001b[39m         \u001b[38;5;28;01mreturn\u001b[39;00m \u001b[38;5;28mgetattr\u001b[39m(ray, func.\u001b[34m__name__\u001b[39m)(*args, **kwargs)\n\u001b[32m--> \u001b[39m\u001b[32m103\u001b[39m \u001b[38;5;28;01mreturn\u001b[39;00m \u001b[43mfunc\u001b[49m\u001b[43m(\u001b[49m\u001b[43m*\u001b[49m\u001b[43margs\u001b[49m\u001b[43m,\u001b[49m\u001b[43m \u001b[49m\u001b[43m*\u001b[49m\u001b[43m*\u001b[49m\u001b[43mkwargs\u001b[49m\u001b[43m)\u001b[49m\n",
      "\u001b[36mFile \u001b[39m\u001b[32m~/venv_312/lib64/python3.12/site-packages/ray/_private/worker.py:1722\u001b[39m, in \u001b[36minit\u001b[39m\u001b[34m(address, num_cpus, num_gpus, resources, labels, object_store_memory, local_mode, ignore_reinit_error, include_dashboard, dashboard_host, dashboard_port, job_config, configure_logging, logging_level, logging_format, logging_config, log_to_driver, namespace, runtime_env, storage, enable_resource_isolation, system_reserved_cpu, system_reserved_memory, **kwargs)\u001b[39m\n\u001b[32m   1720\u001b[39m         \u001b[38;5;28;01mreturn\u001b[39;00m RayContext(\u001b[38;5;28mdict\u001b[39m(_global_node.address_info, node_id=node_id.hex()))\n\u001b[32m   1721\u001b[39m     \u001b[38;5;28;01melse\u001b[39;00m:\n\u001b[32m-> \u001b[39m\u001b[32m1722\u001b[39m         \u001b[38;5;28;01mraise\u001b[39;00m \u001b[38;5;167;01mRuntimeError\u001b[39;00m(\n\u001b[32m   1723\u001b[39m             \u001b[33m\"\u001b[39m\u001b[33mMaybe you called ray.init twice by accident? \u001b[39m\u001b[33m\"\u001b[39m\n\u001b[32m   1724\u001b[39m             \u001b[33m\"\u001b[39m\u001b[33mThis error can be suppressed by passing in \u001b[39m\u001b[33m\"\u001b[39m\n\u001b[32m   1725\u001b[39m             \u001b[33m\"\u001b[39m\u001b[33m'\u001b[39m\u001b[33mignore_reinit_error=True\u001b[39m\u001b[33m'\u001b[39m\u001b[33m or by calling \u001b[39m\u001b[33m\"\u001b[39m\n\u001b[32m   1726\u001b[39m             \u001b[33m\"\u001b[39m\u001b[33m'\u001b[39m\u001b[33mray.shutdown()\u001b[39m\u001b[33m'\u001b[39m\u001b[33m prior to \u001b[39m\u001b[33m'\u001b[39m\u001b[33mray.init()\u001b[39m\u001b[33m'\u001b[39m\u001b[33m.\u001b[39m\u001b[33m\"\u001b[39m\n\u001b[32m   1727\u001b[39m         )\n\u001b[32m   1729\u001b[39m _system_config = _system_config \u001b[38;5;129;01mor\u001b[39;00m {}\n\u001b[32m   1730\u001b[39m \u001b[38;5;28;01mif\u001b[39;00m \u001b[38;5;129;01mnot\u001b[39;00m \u001b[38;5;28misinstance\u001b[39m(_system_config, \u001b[38;5;28mdict\u001b[39m):\n",
      "\u001b[31mRuntimeError\u001b[39m: Maybe you called ray.init twice by accident? This error can be suppressed by passing in 'ignore_reinit_error=True' or by calling 'ray.shutdown()' prior to 'ray.init()'."
     ]
    }
   ],
   "source": [
    "ray.init()"
   ]
  },
  {
   "cell_type": "code",
   "execution_count": 21,
   "id": "137f33be-58f2-4273-b041-9fd7c5411c0e",
   "metadata": {},
   "outputs": [],
   "source": [
    "# parameters\n",
    "\n",
    "lrcat = pathlib.Path(\"~/Pictures/test_catalog/work/work.lrcat\").expanduser()\n",
    "\n"
   ]
  },
  {
   "cell_type": "code",
   "execution_count": 22,
   "id": "28aa102b-15b6-4c39-b95a-8f8448fc7581",
   "metadata": {},
   "outputs": [
    {
     "data": {
      "text/html": [
       "<pre style=\"white-space:pre;overflow-x:auto;line-height:normal;font-family:Menlo,'DejaVu Sans Mono',consolas,'Courier New',monospace\">Table: Adobe_variablesTable rows: <span style=\"color: #008080; text-decoration-color: #008080; font-weight: bold\">2</span>\n",
       "</pre>\n"
      ],
      "text/plain": [
       "Table: Adobe_variablesTable rows: \u001b[1;36m2\u001b[0m\n"
      ]
     },
     "metadata": {},
     "output_type": "display_data"
    },
    {
     "data": {
      "text/html": [
       "<pre style=\"white-space:pre;overflow-x:auto;line-height:normal;font-family:Menlo,'DejaVu Sans Mono',consolas,'Courier New',monospace\">Table: Adobe_variables rows: <span style=\"color: #008080; text-decoration-color: #008080; font-weight: bold\">4</span>\n",
       "</pre>\n"
      ],
      "text/plain": [
       "Table: Adobe_variables rows: \u001b[1;36m4\u001b[0m\n"
      ]
     },
     "metadata": {},
     "output_type": "display_data"
    },
    {
     "data": {
      "text/html": [
       "<pre style=\"white-space:pre;overflow-x:auto;line-height:normal;font-family:Menlo,'DejaVu Sans Mono',consolas,'Courier New',monospace\">Table: AgFolderContent rows: <span style=\"color: #008080; text-decoration-color: #008080; font-weight: bold\">6</span>\n",
       "</pre>\n"
      ],
      "text/plain": [
       "Table: AgFolderContent rows: \u001b[1;36m6\u001b[0m\n"
      ]
     },
     "metadata": {},
     "output_type": "display_data"
    },
    {
     "data": {
      "text/html": [
       "<pre style=\"white-space:pre;overflow-x:auto;line-height:normal;font-family:Menlo,'DejaVu Sans Mono',consolas,'Courier New',monospace\">Table: Adobe_AdditionalMetadata rows: <span style=\"color: #008080; text-decoration-color: #008080; font-weight: bold\">8</span>\n",
       "</pre>\n"
      ],
      "text/plain": [
       "Table: Adobe_AdditionalMetadata rows: \u001b[1;36m8\u001b[0m\n"
      ]
     },
     "metadata": {},
     "output_type": "display_data"
    },
    {
     "data": {
      "text/html": [
       "<pre style=\"white-space:pre;overflow-x:auto;line-height:normal;font-family:Menlo,'DejaVu Sans Mono',consolas,'Courier New',monospace\">Table: AgMetadataSearchIndex rows: <span style=\"color: #008080; text-decoration-color: #008080; font-weight: bold\">10</span>\n",
       "</pre>\n"
      ],
      "text/plain": [
       "Table: AgMetadataSearchIndex rows: \u001b[1;36m10\u001b[0m\n"
      ]
     },
     "metadata": {},
     "output_type": "display_data"
    },
    {
     "data": {
      "text/html": [
       "<pre style=\"white-space:pre;overflow-x:auto;line-height:normal;font-family:Menlo,'DejaVu Sans Mono',consolas,'Courier New',monospace\">Table: Adobe_imageProperties rows: <span style=\"color: #008080; text-decoration-color: #008080; font-weight: bold\">11</span>\n",
       "</pre>\n"
      ],
      "text/plain": [
       "Table: Adobe_imageProperties rows: \u001b[1;36m11\u001b[0m\n"
      ]
     },
     "metadata": {},
     "output_type": "display_data"
    },
    {
     "data": {
      "text/html": [
       "<pre style=\"white-space:pre;overflow-x:auto;line-height:normal;font-family:Menlo,'DejaVu Sans Mono',consolas,'Courier New',monospace\">Table: Adobe_libraryImageDevelopSnapshot rows: <span style=\"color: #008080; text-decoration-color: #008080; font-weight: bold\">13</span>\n",
       "</pre>\n"
      ],
      "text/plain": [
       "Table: Adobe_libraryImageDevelopSnapshot rows: \u001b[1;36m13\u001b[0m\n"
      ]
     },
     "metadata": {},
     "output_type": "display_data"
    },
    {
     "data": {
      "text/html": [
       "<pre style=\"white-space:pre;overflow-x:auto;line-height:normal;font-family:Menlo,'DejaVu Sans Mono',consolas,'Courier New',monospace\">Table: Adobe_libraryImageDevelopHistoryStep rows: <span style=\"color: #008080; text-decoration-color: #008080; font-weight: bold\">15</span>\n",
       "</pre>\n"
      ],
      "text/plain": [
       "Table: Adobe_libraryImageDevelopHistoryStep rows: \u001b[1;36m15\u001b[0m\n"
      ]
     },
     "metadata": {},
     "output_type": "display_data"
    },
    {
     "data": {
      "text/html": [
       "<pre style=\"white-space:pre;overflow-x:auto;line-height:normal;font-family:Menlo,'DejaVu Sans Mono',consolas,'Courier New',monospace\">Table: Adobe_libraryImageDevelop3DLUTColorTable rows: <span style=\"color: #008080; text-decoration-color: #008080; font-weight: bold\">17</span>\n",
       "</pre>\n"
      ],
      "text/plain": [
       "Table: Adobe_libraryImageDevelop3DLUTColorTable rows: \u001b[1;36m17\u001b[0m\n"
      ]
     },
     "metadata": {},
     "output_type": "display_data"
    },
    {
     "data": {
      "text/html": [
       "<pre style=\"white-space:pre;overflow-x:auto;line-height:normal;font-family:Menlo,'DejaVu Sans Mono',consolas,'Courier New',monospace\">Table: Adobe_imageProofSettings rows: <span style=\"color: #008080; text-decoration-color: #008080; font-weight: bold\">19</span>\n",
       "</pre>\n"
      ],
      "text/plain": [
       "Table: Adobe_imageProofSettings rows: \u001b[1;36m19\u001b[0m\n"
      ]
     },
     "metadata": {},
     "output_type": "display_data"
    },
    {
     "data": {
      "text/html": [
       "<pre style=\"white-space:pre;overflow-x:auto;line-height:normal;font-family:Menlo,'DejaVu Sans Mono',consolas,'Courier New',monospace\">Table: AgLibraryKeywordImage rows: <span style=\"color: #008080; text-decoration-color: #008080; font-weight: bold\">20</span>\n",
       "</pre>\n"
      ],
      "text/plain": [
       "Table: AgLibraryKeywordImage rows: \u001b[1;36m20\u001b[0m\n"
      ]
     },
     "metadata": {},
     "output_type": "display_data"
    },
    {
     "data": {
      "text/html": [
       "<pre style=\"white-space:pre;overflow-x:auto;line-height:normal;font-family:Menlo,'DejaVu Sans Mono',consolas,'Courier New',monospace\">Table: Adobe_images rows: <span style=\"color: #008080; text-decoration-color: #008080; font-weight: bold\">21</span>\n",
       "</pre>\n"
      ],
      "text/plain": [
       "Table: Adobe_images rows: \u001b[1;36m21\u001b[0m\n"
      ]
     },
     "metadata": {},
     "output_type": "display_data"
    },
    {
     "data": {
      "text/html": [
       "<pre style=\"white-space:pre;overflow-x:auto;line-height:normal;font-family:Menlo,'DejaVu Sans Mono',consolas,'Courier New',monospace\">Table: AgLibraryKeyword rows: <span style=\"color: #008080; text-decoration-color: #008080; font-weight: bold\">25</span>\n",
       "</pre>\n"
      ],
      "text/plain": [
       "Table: AgLibraryKeyword rows: \u001b[1;36m25\u001b[0m\n"
      ]
     },
     "metadata": {},
     "output_type": "display_data"
    },
    {
     "data": {
      "text/html": [
       "<pre style=\"white-space:pre;overflow-x:auto;line-height:normal;font-family:Menlo,'DejaVu Sans Mono',consolas,'Courier New',monospace\">Table: AgLibraryKeywordSynonym rows: <span style=\"color: #008080; text-decoration-color: #008080; font-weight: bold\">27</span>\n",
       "</pre>\n"
      ],
      "text/plain": [
       "Table: AgLibraryKeywordSynonym rows: \u001b[1;36m27\u001b[0m\n"
      ]
     },
     "metadata": {},
     "output_type": "display_data"
    },
    {
     "data": {
      "text/html": [
       "<pre style=\"white-space:pre;overflow-x:auto;line-height:normal;font-family:Menlo,'DejaVu Sans Mono',consolas,'Courier New',monospace\">Table: AgDevelopAdditionalMetadata rows: <span style=\"color: #008080; text-decoration-color: #008080; font-weight: bold\">28</span>\n",
       "</pre>\n"
      ],
      "text/plain": [
       "Table: AgDevelopAdditionalMetadata rows: \u001b[1;36m28\u001b[0m\n"
      ]
     },
     "metadata": {},
     "output_type": "display_data"
    },
    {
     "data": {
      "text/html": [
       "<pre style=\"white-space:pre;overflow-x:auto;line-height:normal;font-family:Menlo,'DejaVu Sans Mono',consolas,'Courier New',monospace\">Table: AgLibraryCollection rows: <span style=\"color: #008080; text-decoration-color: #008080; font-weight: bold\">29</span>\n",
       "</pre>\n"
      ],
      "text/plain": [
       "Table: AgLibraryCollection rows: \u001b[1;36m29\u001b[0m\n"
      ]
     },
     "metadata": {},
     "output_type": "display_data"
    },
    {
     "data": {
      "text/html": [
       "<pre style=\"white-space:pre;overflow-x:auto;line-height:normal;font-family:Menlo,'DejaVu Sans Mono',consolas,'Courier New',monospace\">Table: AgLibraryCollectionImage rows: <span style=\"color: #008080; text-decoration-color: #008080; font-weight: bold\">30</span>\n",
       "</pre>\n"
      ],
      "text/plain": [
       "Table: AgLibraryCollectionImage rows: \u001b[1;36m30\u001b[0m\n"
      ]
     },
     "metadata": {},
     "output_type": "display_data"
    },
    {
     "data": {
      "text/html": [
       "<pre style=\"white-space:pre;overflow-x:auto;line-height:normal;font-family:Menlo,'DejaVu Sans Mono',consolas,'Courier New',monospace\">Table: AgLibraryCollectionContent rows: <span style=\"color: #008080; text-decoration-color: #008080; font-weight: bold\">31</span>\n",
       "</pre>\n"
      ],
      "text/plain": [
       "Table: AgLibraryCollectionContent rows: \u001b[1;36m31\u001b[0m\n"
      ]
     },
     "metadata": {},
     "output_type": "display_data"
    },
    {
     "data": {
      "text/html": [
       "<pre style=\"white-space:pre;overflow-x:auto;line-height:normal;font-family:Menlo,'DejaVu Sans Mono',consolas,'Courier New',monospace\">Table: AgLibraryCollectionStack rows: <span style=\"color: #008080; text-decoration-color: #008080; font-weight: bold\">32</span>\n",
       "</pre>\n"
      ],
      "text/plain": [
       "Table: AgLibraryCollectionStack rows: \u001b[1;36m32\u001b[0m\n"
      ]
     },
     "metadata": {},
     "output_type": "display_data"
    },
    {
     "data": {
      "text/html": [
       "<pre style=\"white-space:pre;overflow-x:auto;line-height:normal;font-family:Menlo,'DejaVu Sans Mono',consolas,'Courier New',monospace\">Table: AgLibraryCollectionStackImage rows: <span style=\"color: #008080; text-decoration-color: #008080; font-weight: bold\">34</span>\n",
       "</pre>\n"
      ],
      "text/plain": [
       "Table: AgLibraryCollectionStackImage rows: \u001b[1;36m34\u001b[0m\n"
      ]
     },
     "metadata": {},
     "output_type": "display_data"
    },
    {
     "data": {
      "text/html": [
       "<pre style=\"white-space:pre;overflow-x:auto;line-height:normal;font-family:Menlo,'DejaVu Sans Mono',consolas,'Courier New',monospace\">Table: AgLibraryCollectionLabel rows: <span style=\"color: #008080; text-decoration-color: #008080; font-weight: bold\">35</span>\n",
       "</pre>\n"
      ],
      "text/plain": [
       "Table: AgLibraryCollectionLabel rows: \u001b[1;36m35\u001b[0m\n"
      ]
     },
     "metadata": {},
     "output_type": "display_data"
    },
    {
     "data": {
      "text/html": [
       "<pre style=\"white-space:pre;overflow-x:auto;line-height:normal;font-family:Menlo,'DejaVu Sans Mono',consolas,'Courier New',monospace\">Table: AgOutputImageAsset rows: <span style=\"color: #008080; text-decoration-color: #008080; font-weight: bold\">37</span>\n",
       "</pre>\n"
      ],
      "text/plain": [
       "Table: AgOutputImageAsset rows: \u001b[1;36m37\u001b[0m\n"
      ]
     },
     "metadata": {},
     "output_type": "display_data"
    },
    {
     "data": {
      "text/html": [
       "<pre style=\"white-space:pre;overflow-x:auto;line-height:normal;font-family:Menlo,'DejaVu Sans Mono',consolas,'Courier New',monospace\">Table: AgLibraryFolderStack rows: <span style=\"color: #008080; text-decoration-color: #008080; font-weight: bold\">39</span>\n",
       "</pre>\n"
      ],
      "text/plain": [
       "Table: AgLibraryFolderStack rows: \u001b[1;36m39\u001b[0m\n"
      ]
     },
     "metadata": {},
     "output_type": "display_data"
    },
    {
     "data": {
      "text/html": [
       "<pre style=\"white-space:pre;overflow-x:auto;line-height:normal;font-family:Menlo,'DejaVu Sans Mono',consolas,'Courier New',monospace\">Table: AgLibraryFolderStackImage rows: <span style=\"color: #008080; text-decoration-color: #008080; font-weight: bold\">41</span>\n",
       "</pre>\n"
      ],
      "text/plain": [
       "Table: AgLibraryFolderStackImage rows: \u001b[1;36m41\u001b[0m\n"
      ]
     },
     "metadata": {},
     "output_type": "display_data"
    },
    {
     "data": {
      "text/html": [
       "<pre style=\"white-space:pre;overflow-x:auto;line-height:normal;font-family:Menlo,'DejaVu Sans Mono',consolas,'Courier New',monospace\">Table: AgLibraryPublishedCollection rows: <span style=\"color: #008080; text-decoration-color: #008080; font-weight: bold\">42</span>\n",
       "</pre>\n"
      ],
      "text/plain": [
       "Table: AgLibraryPublishedCollection rows: \u001b[1;36m42\u001b[0m\n"
      ]
     },
     "metadata": {},
     "output_type": "display_data"
    },
    {
     "data": {
      "text/html": [
       "<pre style=\"white-space:pre;overflow-x:auto;line-height:normal;font-family:Menlo,'DejaVu Sans Mono',consolas,'Courier New',monospace\">Table: AgLibraryPublishedCollectionImage rows: <span style=\"color: #008080; text-decoration-color: #008080; font-weight: bold\">43</span>\n",
       "</pre>\n"
      ],
      "text/plain": [
       "Table: AgLibraryPublishedCollectionImage rows: \u001b[1;36m43\u001b[0m\n"
      ]
     },
     "metadata": {},
     "output_type": "display_data"
    },
    {
     "data": {
      "text/html": [
       "<pre style=\"white-space:pre;overflow-x:auto;line-height:normal;font-family:Menlo,'DejaVu Sans Mono',consolas,'Courier New',monospace\">Table: AgLibraryPublishedCollectionContent rows: <span style=\"color: #008080; text-decoration-color: #008080; font-weight: bold\">44</span>\n",
       "</pre>\n"
      ],
      "text/plain": [
       "Table: AgLibraryPublishedCollectionContent rows: \u001b[1;36m44\u001b[0m\n"
      ]
     },
     "metadata": {},
     "output_type": "display_data"
    },
    {
     "data": {
      "text/html": [
       "<pre style=\"white-space:pre;overflow-x:auto;line-height:normal;font-family:Menlo,'DejaVu Sans Mono',consolas,'Courier New',monospace\">Table: AgLibraryPublishedCollectionLabel rows: <span style=\"color: #008080; text-decoration-color: #008080; font-weight: bold\">45</span>\n",
       "</pre>\n"
      ],
      "text/plain": [
       "Table: AgLibraryPublishedCollectionLabel rows: \u001b[1;36m45\u001b[0m\n"
      ]
     },
     "metadata": {},
     "output_type": "display_data"
    },
    {
     "data": {
      "text/html": [
       "<pre style=\"white-space:pre;overflow-x:auto;line-height:normal;font-family:Menlo,'DejaVu Sans Mono',consolas,'Courier New',monospace\">Table: AgLibraryIPTC rows: <span style=\"color: #008080; text-decoration-color: #008080; font-weight: bold\">47</span>\n",
       "</pre>\n"
      ],
      "text/plain": [
       "Table: AgLibraryIPTC rows: \u001b[1;36m47\u001b[0m\n"
      ]
     },
     "metadata": {},
     "output_type": "display_data"
    },
    {
     "data": {
      "text/html": [
       "<pre style=\"white-space:pre;overflow-x:auto;line-height:normal;font-family:Menlo,'DejaVu Sans Mono',consolas,'Courier New',monospace\">Table: AgLibraryImport rows: <span style=\"color: #008080; text-decoration-color: #008080; font-weight: bold\">48</span>\n",
       "</pre>\n"
      ],
      "text/plain": [
       "Table: AgLibraryImport rows: \u001b[1;36m48\u001b[0m\n"
      ]
     },
     "metadata": {},
     "output_type": "display_data"
    },
    {
     "data": {
      "text/html": [
       "<pre style=\"white-space:pre;overflow-x:auto;line-height:normal;font-family:Menlo,'DejaVu Sans Mono',consolas,'Courier New',monospace\">Table: AgLibraryImportImage rows: <span style=\"color: #008080; text-decoration-color: #008080; font-weight: bold\">49</span>\n",
       "</pre>\n"
      ],
      "text/plain": [
       "Table: AgLibraryImportImage rows: \u001b[1;36m49\u001b[0m\n"
      ]
     },
     "metadata": {},
     "output_type": "display_data"
    },
    {
     "data": {
      "text/html": [
       "<pre style=\"white-space:pre;overflow-x:auto;line-height:normal;font-family:Menlo,'DejaVu Sans Mono',consolas,'Courier New',monospace\">Table: AgSpecialSourceContent rows: <span style=\"color: #008080; text-decoration-color: #008080; font-weight: bold\">50</span>\n",
       "</pre>\n"
      ],
      "text/plain": [
       "Table: AgSpecialSourceContent rows: \u001b[1;36m50\u001b[0m\n"
      ]
     },
     "metadata": {},
     "output_type": "display_data"
    },
    {
     "data": {
      "text/html": [
       "<pre style=\"white-space:pre;overflow-x:auto;line-height:normal;font-family:Menlo,'DejaVu Sans Mono',consolas,'Courier New',monospace\">Table: AgLibraryRootFolder rows: <span style=\"color: #008080; text-decoration-color: #008080; font-weight: bold\">51</span>\n",
       "</pre>\n"
      ],
      "text/plain": [
       "Table: AgLibraryRootFolder rows: \u001b[1;36m51\u001b[0m\n"
      ]
     },
     "metadata": {},
     "output_type": "display_data"
    },
    {
     "data": {
      "text/html": [
       "<pre style=\"white-space:pre;overflow-x:auto;line-height:normal;font-family:Menlo,'DejaVu Sans Mono',consolas,'Courier New',monospace\">Table: AgLibraryFolder rows: <span style=\"color: #008080; text-decoration-color: #008080; font-weight: bold\">54</span>\n",
       "</pre>\n"
      ],
      "text/plain": [
       "Table: AgLibraryFolder rows: \u001b[1;36m54\u001b[0m\n"
      ]
     },
     "metadata": {},
     "output_type": "display_data"
    },
    {
     "data": {
      "text/html": [
       "<pre style=\"white-space:pre;overflow-x:auto;line-height:normal;font-family:Menlo,'DejaVu Sans Mono',consolas,'Courier New',monospace\">Table: AgLibraryFolderLabel rows: <span style=\"color: #008080; text-decoration-color: #008080; font-weight: bold\">56</span>\n",
       "</pre>\n"
      ],
      "text/plain": [
       "Table: AgLibraryFolderLabel rows: \u001b[1;36m56\u001b[0m\n"
      ]
     },
     "metadata": {},
     "output_type": "display_data"
    },
    {
     "data": {
      "text/html": [
       "<pre style=\"white-space:pre;overflow-x:auto;line-height:normal;font-family:Menlo,'DejaVu Sans Mono',consolas,'Courier New',monospace\">Table: AgLibraryFolderFavorite rows: <span style=\"color: #008080; text-decoration-color: #008080; font-weight: bold\">59</span>\n",
       "</pre>\n"
      ],
      "text/plain": [
       "Table: AgLibraryFolderFavorite rows: \u001b[1;36m59\u001b[0m\n"
      ]
     },
     "metadata": {},
     "output_type": "display_data"
    },
    {
     "data": {
      "text/html": [
       "<pre style=\"white-space:pre;overflow-x:auto;line-height:normal;font-family:Menlo,'DejaVu Sans Mono',consolas,'Courier New',monospace\">Table: AgLibraryFile rows: <span style=\"color: #008080; text-decoration-color: #008080; font-weight: bold\">61</span>\n",
       "</pre>\n"
      ],
      "text/plain": [
       "Table: AgLibraryFile rows: \u001b[1;36m61\u001b[0m\n"
      ]
     },
     "metadata": {},
     "output_type": "display_data"
    },
    {
     "data": {
      "text/html": [
       "<pre style=\"white-space:pre;overflow-x:auto;line-height:normal;font-family:Menlo,'DejaVu Sans Mono',consolas,'Courier New',monospace\">Table: AgLibraryImageAttributes rows: <span style=\"color: #008080; text-decoration-color: #008080; font-weight: bold\">63</span>\n",
       "</pre>\n"
      ],
      "text/plain": [
       "Table: AgLibraryImageAttributes rows: \u001b[1;36m63\u001b[0m\n"
      ]
     },
     "metadata": {},
     "output_type": "display_data"
    },
    {
     "data": {
      "text/html": [
       "<pre style=\"white-space:pre;overflow-x:auto;line-height:normal;font-family:Menlo,'DejaVu Sans Mono',consolas,'Courier New',monospace\">Table: AgLibraryKeywordPopularity rows: <span style=\"color: #008080; text-decoration-color: #008080; font-weight: bold\">64</span>\n",
       "</pre>\n"
      ],
      "text/plain": [
       "Table: AgLibraryKeywordPopularity rows: \u001b[1;36m64\u001b[0m\n"
      ]
     },
     "metadata": {},
     "output_type": "display_data"
    },
    {
     "data": {
      "text/html": [
       "<pre style=\"white-space:pre;overflow-x:auto;line-height:normal;font-family:Menlo,'DejaVu Sans Mono',consolas,'Courier New',monospace\">Table: AgLibraryKeywordCooccurrence rows: <span style=\"color: #008080; text-decoration-color: #008080; font-weight: bold\">66</span>\n",
       "</pre>\n"
      ],
      "text/plain": [
       "Table: AgLibraryKeywordCooccurrence rows: \u001b[1;36m66\u001b[0m\n"
      ]
     },
     "metadata": {},
     "output_type": "display_data"
    },
    {
     "data": {
      "text/html": [
       "<pre style=\"white-space:pre;overflow-x:auto;line-height:normal;font-family:Menlo,'DejaVu Sans Mono',consolas,'Courier New',monospace\">Table: AgPhotoComment rows: <span style=\"color: #008080; text-decoration-color: #008080; font-weight: bold\">67</span>\n",
       "</pre>\n"
      ],
      "text/plain": [
       "Table: AgPhotoComment rows: \u001b[1;36m67\u001b[0m\n"
      ]
     },
     "metadata": {},
     "output_type": "display_data"
    },
    {
     "data": {
      "text/html": [
       "<pre style=\"white-space:pre;overflow-x:auto;line-height:normal;font-family:Menlo,'DejaVu Sans Mono',consolas,'Courier New',monospace\">Table: AgPhotoProperty rows: <span style=\"color: #008080; text-decoration-color: #008080; font-weight: bold\">69</span>\n",
       "</pre>\n"
      ],
      "text/plain": [
       "Table: AgPhotoProperty rows: \u001b[1;36m69\u001b[0m\n"
      ]
     },
     "metadata": {},
     "output_type": "display_data"
    },
    {
     "data": {
      "text/html": [
       "<pre style=\"white-space:pre;overflow-x:auto;line-height:normal;font-family:Menlo,'DejaVu Sans Mono',consolas,'Courier New',monospace\">Table: AgPhotoPropertyArrayElement rows: <span style=\"color: #008080; text-decoration-color: #008080; font-weight: bold\">71</span>\n",
       "</pre>\n"
      ],
      "text/plain": [
       "Table: AgPhotoPropertyArrayElement rows: \u001b[1;36m71\u001b[0m\n"
      ]
     },
     "metadata": {},
     "output_type": "display_data"
    },
    {
     "data": {
      "text/html": [
       "<pre style=\"white-space:pre;overflow-x:auto;line-height:normal;font-family:Menlo,'DejaVu Sans Mono',consolas,'Courier New',monospace\">Table: AgSearchablePhotoProperty rows: <span style=\"color: #008080; text-decoration-color: #008080; font-weight: bold\">73</span>\n",
       "</pre>\n"
      ],
      "text/plain": [
       "Table: AgSearchablePhotoProperty rows: \u001b[1;36m73\u001b[0m\n"
      ]
     },
     "metadata": {},
     "output_type": "display_data"
    },
    {
     "data": {
      "text/html": [
       "<pre style=\"white-space:pre;overflow-x:auto;line-height:normal;font-family:Menlo,'DejaVu Sans Mono',consolas,'Courier New',monospace\">Table: AgSearchablePhotoPropertyArrayElement rows: <span style=\"color: #008080; text-decoration-color: #008080; font-weight: bold\">75</span>\n",
       "</pre>\n"
      ],
      "text/plain": [
       "Table: AgSearchablePhotoPropertyArrayElement rows: \u001b[1;36m75\u001b[0m\n"
      ]
     },
     "metadata": {},
     "output_type": "display_data"
    },
    {
     "data": {
      "text/html": [
       "<pre style=\"white-space:pre;overflow-x:auto;line-height:normal;font-family:Menlo,'DejaVu Sans Mono',consolas,'Courier New',monospace\">Table: AgPhotoPropertySpec rows: <span style=\"color: #008080; text-decoration-color: #008080; font-weight: bold\">78</span>\n",
       "</pre>\n"
      ],
      "text/plain": [
       "Table: AgPhotoPropertySpec rows: \u001b[1;36m78\u001b[0m\n"
      ]
     },
     "metadata": {},
     "output_type": "display_data"
    },
    {
     "data": {
      "text/html": [
       "<pre style=\"white-space:pre;overflow-x:auto;line-height:normal;font-family:Menlo,'DejaVu Sans Mono',consolas,'Courier New',monospace\">Table: AgRemotePhoto rows: <span style=\"color: #008080; text-decoration-color: #008080; font-weight: bold\">80</span>\n",
       "</pre>\n"
      ],
      "text/plain": [
       "Table: AgRemotePhoto rows: \u001b[1;36m80\u001b[0m\n"
      ]
     },
     "metadata": {},
     "output_type": "display_data"
    },
    {
     "data": {
      "text/html": [
       "<pre style=\"white-space:pre;overflow-x:auto;line-height:normal;font-family:Menlo,'DejaVu Sans Mono',consolas,'Courier New',monospace\">Table: AgVideoInfo rows: <span style=\"color: #008080; text-decoration-color: #008080; font-weight: bold\">82</span>\n",
       "</pre>\n"
      ],
      "text/plain": [
       "Table: AgVideoInfo rows: \u001b[1;36m82\u001b[0m\n"
      ]
     },
     "metadata": {},
     "output_type": "display_data"
    },
    {
     "data": {
      "text/html": [
       "<pre style=\"white-space:pre;overflow-x:auto;line-height:normal;font-family:Menlo,'DejaVu Sans Mono',consolas,'Courier New',monospace\">Table: AgLibraryFace rows: <span style=\"color: #008080; text-decoration-color: #008080; font-weight: bold\">83</span>\n",
       "</pre>\n"
      ],
      "text/plain": [
       "Table: AgLibraryFace rows: \u001b[1;36m83\u001b[0m\n"
      ]
     },
     "metadata": {},
     "output_type": "display_data"
    },
    {
     "data": {
      "text/html": [
       "<pre style=\"white-space:pre;overflow-x:auto;line-height:normal;font-family:Menlo,'DejaVu Sans Mono',consolas,'Courier New',monospace\">Table: Adobe_faceProperties rows: <span style=\"color: #008080; text-decoration-color: #008080; font-weight: bold\">84</span>\n",
       "</pre>\n"
      ],
      "text/plain": [
       "Table: Adobe_faceProperties rows: \u001b[1;36m84\u001b[0m\n"
      ]
     },
     "metadata": {},
     "output_type": "display_data"
    },
    {
     "data": {
      "text/html": [
       "<pre style=\"white-space:pre;overflow-x:auto;line-height:normal;font-family:Menlo,'DejaVu Sans Mono',consolas,'Courier New',monospace\">Table: AgLibraryFaceData rows: <span style=\"color: #008080; text-decoration-color: #008080; font-weight: bold\">85</span>\n",
       "</pre>\n"
      ],
      "text/plain": [
       "Table: AgLibraryFaceData rows: \u001b[1;36m85\u001b[0m\n"
      ]
     },
     "metadata": {},
     "output_type": "display_data"
    },
    {
     "data": {
      "text/html": [
       "<pre style=\"white-space:pre;overflow-x:auto;line-height:normal;font-family:Menlo,'DejaVu Sans Mono',consolas,'Courier New',monospace\">Table: AgLibraryFaceCluster rows: <span style=\"color: #008080; text-decoration-color: #008080; font-weight: bold\">86</span>\n",
       "</pre>\n"
      ],
      "text/plain": [
       "Table: AgLibraryFaceCluster rows: \u001b[1;36m86\u001b[0m\n"
      ]
     },
     "metadata": {},
     "output_type": "display_data"
    },
    {
     "data": {
      "text/html": [
       "<pre style=\"white-space:pre;overflow-x:auto;line-height:normal;font-family:Menlo,'DejaVu Sans Mono',consolas,'Courier New',monospace\">Table: AgLibraryKeywordFace rows: <span style=\"color: #008080; text-decoration-color: #008080; font-weight: bold\">87</span>\n",
       "</pre>\n"
      ],
      "text/plain": [
       "Table: AgLibraryKeywordFace rows: \u001b[1;36m87\u001b[0m\n"
      ]
     },
     "metadata": {},
     "output_type": "display_data"
    },
    {
     "data": {
      "text/html": [
       "<pre style=\"white-space:pre;overflow-x:auto;line-height:normal;font-family:Menlo,'DejaVu Sans Mono',consolas,'Courier New',monospace\">Table: Adobe_libraryImageFaceProcessHistory rows: <span style=\"color: #008080; text-decoration-color: #008080; font-weight: bold\">88</span>\n",
       "</pre>\n"
      ],
      "text/plain": [
       "Table: Adobe_libraryImageFaceProcessHistory rows: \u001b[1;36m88\u001b[0m\n"
      ]
     },
     "metadata": {},
     "output_type": "display_data"
    },
    {
     "data": {
      "text/html": [
       "<pre style=\"white-space:pre;overflow-x:auto;line-height:normal;font-family:Menlo,'DejaVu Sans Mono',consolas,'Courier New',monospace\">Table: AgLibraryImageSearchData rows: <span style=\"color: #008080; text-decoration-color: #008080; font-weight: bold\">89</span>\n",
       "</pre>\n"
      ],
      "text/plain": [
       "Table: AgLibraryImageSearchData rows: \u001b[1;36m89\u001b[0m\n"
      ]
     },
     "metadata": {},
     "output_type": "display_data"
    },
    {
     "data": {
      "text/html": [
       "<pre style=\"white-space:pre;overflow-x:auto;line-height:normal;font-family:Menlo,'DejaVu Sans Mono',consolas,'Courier New',monospace\">Table: AgSourceColorProfileConstants rows: <span style=\"color: #008080; text-decoration-color: #008080; font-weight: bold\">90</span>\n",
       "</pre>\n"
      ],
      "text/plain": [
       "Table: AgSourceColorProfileConstants rows: \u001b[1;36m90\u001b[0m\n"
      ]
     },
     "metadata": {},
     "output_type": "display_data"
    },
    {
     "data": {
      "text/html": [
       "<pre style=\"white-space:pre;overflow-x:auto;line-height:normal;font-family:Menlo,'DejaVu Sans Mono',consolas,'Courier New',monospace\">Table: AgDNGProxyInfo rows: <span style=\"color: #008080; text-decoration-color: #008080; font-weight: bold\">92</span>\n",
       "</pre>\n"
      ],
      "text/plain": [
       "Table: AgDNGProxyInfo rows: \u001b[1;36m92\u001b[0m\n"
      ]
     },
     "metadata": {},
     "output_type": "display_data"
    },
    {
     "data": {
      "text/html": [
       "<pre style=\"white-space:pre;overflow-x:auto;line-height:normal;font-family:Menlo,'DejaVu Sans Mono',consolas,'Courier New',monospace\">Table: AgLibraryOzFeedbackInfo rows: <span style=\"color: #008080; text-decoration-color: #008080; font-weight: bold\">93</span>\n",
       "</pre>\n"
      ],
      "text/plain": [
       "Table: AgLibraryOzFeedbackInfo rows: \u001b[1;36m93\u001b[0m\n"
      ]
     },
     "metadata": {},
     "output_type": "display_data"
    },
    {
     "data": {
      "text/html": [
       "<pre style=\"white-space:pre;overflow-x:auto;line-height:normal;font-family:Menlo,'DejaVu Sans Mono',consolas,'Courier New',monospace\">Table: Adobe_imageDevelopBeforeSettings rows: <span style=\"color: #008080; text-decoration-color: #008080; font-weight: bold\">94</span>\n",
       "</pre>\n"
      ],
      "text/plain": [
       "Table: Adobe_imageDevelopBeforeSettings rows: \u001b[1;36m94\u001b[0m\n"
      ]
     },
     "metadata": {},
     "output_type": "display_data"
    },
    {
     "data": {
      "text/html": [
       "<pre style=\"white-space:pre;overflow-x:auto;line-height:normal;font-family:Menlo,'DejaVu Sans Mono',consolas,'Courier New',monospace\">Table: Adobe_imageDevelopSettings rows: <span style=\"color: #008080; text-decoration-color: #008080; font-weight: bold\">95</span>\n",
       "</pre>\n"
      ],
      "text/plain": [
       "Table: Adobe_imageDevelopSettings rows: \u001b[1;36m95\u001b[0m\n"
      ]
     },
     "metadata": {},
     "output_type": "display_data"
    },
    {
     "data": {
      "text/html": [
       "<pre style=\"white-space:pre;overflow-x:auto;line-height:normal;font-family:Menlo,'DejaVu Sans Mono',consolas,'Courier New',monospace\">Table: Adobe_namedIdentityPlate rows: <span style=\"color: #008080; text-decoration-color: #008080; font-weight: bold\">96</span>\n",
       "</pre>\n"
      ],
      "text/plain": [
       "Table: Adobe_namedIdentityPlate rows: \u001b[1;36m96\u001b[0m\n"
      ]
     },
     "metadata": {},
     "output_type": "display_data"
    },
    {
     "data": {
      "text/html": [
       "<pre style=\"white-space:pre;overflow-x:auto;line-height:normal;font-family:Menlo,'DejaVu Sans Mono',consolas,'Courier New',monospace\">Table: AgMRULists rows: <span style=\"color: #008080; text-decoration-color: #008080; font-weight: bold\">98</span>\n",
       "</pre>\n"
      ],
      "text/plain": [
       "Table: AgMRULists rows: \u001b[1;36m98\u001b[0m\n"
      ]
     },
     "metadata": {},
     "output_type": "display_data"
    },
    {
     "data": {
      "text/html": [
       "<pre style=\"white-space:pre;overflow-x:auto;line-height:normal;font-family:Menlo,'DejaVu Sans Mono',consolas,'Courier New',monospace\">Table: AgHarvestedExifMetadata rows: <span style=\"color: #008080; text-decoration-color: #008080; font-weight: bold\">99</span>\n",
       "</pre>\n"
      ],
      "text/plain": [
       "Table: AgHarvestedExifMetadata rows: \u001b[1;36m99\u001b[0m\n"
      ]
     },
     "metadata": {},
     "output_type": "display_data"
    },
    {
     "data": {
      "text/html": [
       "<pre style=\"white-space:pre;overflow-x:auto;line-height:normal;font-family:Menlo,'DejaVu Sans Mono',consolas,'Courier New',monospace\">Table: AgHarvestedIptcMetadata rows: <span style=\"color: #008080; text-decoration-color: #008080; font-weight: bold\">100</span>\n",
       "</pre>\n"
      ],
      "text/plain": [
       "Table: AgHarvestedIptcMetadata rows: \u001b[1;36m100\u001b[0m\n"
      ]
     },
     "metadata": {},
     "output_type": "display_data"
    },
    {
     "data": {
      "text/html": [
       "<pre style=\"white-space:pre;overflow-x:auto;line-height:normal;font-family:Menlo,'DejaVu Sans Mono',consolas,'Courier New',monospace\">Table: AgHarvestedDNGMetadata rows: <span style=\"color: #008080; text-decoration-color: #008080; font-weight: bold\">101</span>\n",
       "</pre>\n"
      ],
      "text/plain": [
       "Table: AgHarvestedDNGMetadata rows: \u001b[1;36m101\u001b[0m\n"
      ]
     },
     "metadata": {},
     "output_type": "display_data"
    },
    {
     "data": {
      "text/html": [
       "<pre style=\"white-space:pre;overflow-x:auto;line-height:normal;font-family:Menlo,'DejaVu Sans Mono',consolas,'Courier New',monospace\">Table: AgInternedIptcCreator rows: <span style=\"color: #008080; text-decoration-color: #008080; font-weight: bold\">102</span>\n",
       "</pre>\n"
      ],
      "text/plain": [
       "Table: AgInternedIptcCreator rows: \u001b[1;36m102\u001b[0m\n"
      ]
     },
     "metadata": {},
     "output_type": "display_data"
    },
    {
     "data": {
      "text/html": [
       "<pre style=\"white-space:pre;overflow-x:auto;line-height:normal;font-family:Menlo,'DejaVu Sans Mono',consolas,'Courier New',monospace\">Table: AgInternedIptcCountry rows: <span style=\"color: #008080; text-decoration-color: #008080; font-weight: bold\">103</span>\n",
       "</pre>\n"
      ],
      "text/plain": [
       "Table: AgInternedIptcCountry rows: \u001b[1;36m103\u001b[0m\n"
      ]
     },
     "metadata": {},
     "output_type": "display_data"
    },
    {
     "data": {
      "text/html": [
       "<pre style=\"white-space:pre;overflow-x:auto;line-height:normal;font-family:Menlo,'DejaVu Sans Mono',consolas,'Courier New',monospace\">Table: AgInternedIptcLocation rows: <span style=\"color: #008080; text-decoration-color: #008080; font-weight: bold\">105</span>\n",
       "</pre>\n"
      ],
      "text/plain": [
       "Table: AgInternedIptcLocation rows: \u001b[1;36m105\u001b[0m\n"
      ]
     },
     "metadata": {},
     "output_type": "display_data"
    },
    {
     "data": {
      "text/html": [
       "<pre style=\"white-space:pre;overflow-x:auto;line-height:normal;font-family:Menlo,'DejaVu Sans Mono',consolas,'Courier New',monospace\">Table: AgInternedIptcState rows: <span style=\"color: #008080; text-decoration-color: #008080; font-weight: bold\">106</span>\n",
       "</pre>\n"
      ],
      "text/plain": [
       "Table: AgInternedIptcState rows: \u001b[1;36m106\u001b[0m\n"
      ]
     },
     "metadata": {},
     "output_type": "display_data"
    },
    {
     "data": {
      "text/html": [
       "<pre style=\"white-space:pre;overflow-x:auto;line-height:normal;font-family:Menlo,'DejaVu Sans Mono',consolas,'Courier New',monospace\">Table: AgInternedExifCameraModel rows: <span style=\"color: #008080; text-decoration-color: #008080; font-weight: bold\">107</span>\n",
       "</pre>\n"
      ],
      "text/plain": [
       "Table: AgInternedExifCameraModel rows: \u001b[1;36m107\u001b[0m\n"
      ]
     },
     "metadata": {},
     "output_type": "display_data"
    },
    {
     "data": {
      "text/html": [
       "<pre style=\"white-space:pre;overflow-x:auto;line-height:normal;font-family:Menlo,'DejaVu Sans Mono',consolas,'Courier New',monospace\">Table: AgInternedExifCameraSN rows: <span style=\"color: #008080; text-decoration-color: #008080; font-weight: bold\">108</span>\n",
       "</pre>\n"
      ],
      "text/plain": [
       "Table: AgInternedExifCameraSN rows: \u001b[1;36m108\u001b[0m\n"
      ]
     },
     "metadata": {},
     "output_type": "display_data"
    },
    {
     "data": {
      "text/html": [
       "<pre style=\"white-space:pre;overflow-x:auto;line-height:normal;font-family:Menlo,'DejaVu Sans Mono',consolas,'Courier New',monospace\">Table: AgInternedIptcJobIdentifier rows: <span style=\"color: #008080; text-decoration-color: #008080; font-weight: bold\">109</span>\n",
       "</pre>\n"
      ],
      "text/plain": [
       "Table: AgInternedIptcJobIdentifier rows: \u001b[1;36m109\u001b[0m\n"
      ]
     },
     "metadata": {},
     "output_type": "display_data"
    },
    {
     "data": {
      "text/html": [
       "<pre style=\"white-space:pre;overflow-x:auto;line-height:normal;font-family:Menlo,'DejaVu Sans Mono',consolas,'Courier New',monospace\">Table: AgInternedIptcIsoCountryCode rows: <span style=\"color: #008080; text-decoration-color: #008080; font-weight: bold\">110</span>\n",
       "</pre>\n"
      ],
      "text/plain": [
       "Table: AgInternedIptcIsoCountryCode rows: \u001b[1;36m110\u001b[0m\n"
      ]
     },
     "metadata": {},
     "output_type": "display_data"
    },
    {
     "data": {
      "text/html": [
       "<pre style=\"white-space:pre;overflow-x:auto;line-height:normal;font-family:Menlo,'DejaVu Sans Mono',consolas,'Courier New',monospace\">Table: AgInternedIptcCity rows: <span style=\"color: #008080; text-decoration-color: #008080; font-weight: bold\">111</span>\n",
       "</pre>\n"
      ],
      "text/plain": [
       "Table: AgInternedIptcCity rows: \u001b[1;36m111\u001b[0m\n"
      ]
     },
     "metadata": {},
     "output_type": "display_data"
    },
    {
     "data": {
      "text/html": [
       "<pre style=\"white-space:pre;overflow-x:auto;line-height:normal;font-family:Menlo,'DejaVu Sans Mono',consolas,'Courier New',monospace\">Table: AgInternedExifLens rows: <span style=\"color: #008080; text-decoration-color: #008080; font-weight: bold\">112</span>\n",
       "</pre>\n"
      ],
      "text/plain": [
       "Table: AgInternedExifLens rows: \u001b[1;36m112\u001b[0m\n"
      ]
     },
     "metadata": {},
     "output_type": "display_data"
    },
    {
     "data": {
      "text/html": [
       "<pre style=\"white-space:pre;overflow-x:auto;line-height:normal;font-family:Menlo,'DejaVu Sans Mono',consolas,'Courier New',monospace\">Table: AgHarvestedMetadataWorklist rows: <span style=\"color: #008080; text-decoration-color: #008080; font-weight: bold\">113</span>\n",
       "</pre>\n"
      ],
      "text/plain": [
       "Table: AgHarvestedMetadataWorklist rows: \u001b[1;36m113\u001b[0m\n"
      ]
     },
     "metadata": {},
     "output_type": "display_data"
    },
    {
     "data": {
      "text/html": [
       "<pre style=\"white-space:pre;overflow-x:auto;line-height:normal;font-family:Menlo,'DejaVu Sans Mono',consolas,'Courier New',monospace\">Table: AgLibraryImageXMPUpdater rows: <span style=\"color: #008080; text-decoration-color: #008080; font-weight: bold\">115</span>\n",
       "</pre>\n"
      ],
      "text/plain": [
       "Table: AgLibraryImageXMPUpdater rows: \u001b[1;36m115\u001b[0m\n"
      ]
     },
     "metadata": {},
     "output_type": "display_data"
    },
    {
     "data": {
      "text/html": [
       "<pre style=\"white-space:pre;overflow-x:auto;line-height:normal;font-family:Menlo,'DejaVu Sans Mono',consolas,'Courier New',monospace\">Table: AgLibraryImageSaveXMP rows: <span style=\"color: #008080; text-decoration-color: #008080; font-weight: bold\">117</span>\n",
       "</pre>\n"
      ],
      "text/plain": [
       "Table: AgLibraryImageSaveXMP rows: \u001b[1;36m117\u001b[0m\n"
      ]
     },
     "metadata": {},
     "output_type": "display_data"
    },
    {
     "data": {
      "text/html": [
       "<pre style=\"white-space:pre;overflow-x:auto;line-height:normal;font-family:Menlo,'DejaVu Sans Mono',consolas,'Courier New',monospace\">Table: AgPublishListenerWorklist rows: <span style=\"color: #008080; text-decoration-color: #008080; font-weight: bold\">119</span>\n",
       "</pre>\n"
      ],
      "text/plain": [
       "Table: AgPublishListenerWorklist rows: \u001b[1;36m119\u001b[0m\n"
      ]
     },
     "metadata": {},
     "output_type": "display_data"
    },
    {
     "data": {
      "text/html": [
       "<pre style=\"white-space:pre;overflow-x:auto;line-height:normal;font-family:Menlo,'DejaVu Sans Mono',consolas,'Courier New',monospace\">Table: AgDNGProxyInfoUpdater rows: <span style=\"color: #008080; text-decoration-color: #008080; font-weight: bold\">121</span>\n",
       "</pre>\n"
      ],
      "text/plain": [
       "Table: AgDNGProxyInfoUpdater rows: \u001b[1;36m121\u001b[0m\n"
      ]
     },
     "metadata": {},
     "output_type": "display_data"
    },
    {
     "data": {
      "text/html": [
       "<pre style=\"white-space:pre;overflow-x:auto;line-height:normal;font-family:Menlo,'DejaVu Sans Mono',consolas,'Courier New',monospace\">Table: AgTempImages rows: <span style=\"color: #008080; text-decoration-color: #008080; font-weight: bold\">123</span>\n",
       "</pre>\n"
      ],
      "text/plain": [
       "Table: AgTempImages rows: \u001b[1;36m123\u001b[0m\n"
      ]
     },
     "metadata": {},
     "output_type": "display_data"
    },
    {
     "data": {
      "text/html": [
       "<pre style=\"white-space:pre;overflow-x:auto;line-height:normal;font-family:Menlo,'DejaVu Sans Mono',consolas,'Courier New',monospace\">Table: AgLibraryUpdatedImages rows: <span style=\"color: #008080; text-decoration-color: #008080; font-weight: bold\">124</span>\n",
       "</pre>\n"
      ],
      "text/plain": [
       "Table: AgLibraryUpdatedImages rows: \u001b[1;36m124\u001b[0m\n"
      ]
     },
     "metadata": {},
     "output_type": "display_data"
    },
    {
     "data": {
      "text/html": [
       "<pre style=\"white-space:pre;overflow-x:auto;line-height:normal;font-family:Menlo,'DejaVu Sans Mono',consolas,'Courier New',monospace\">Table: AgLastCatalogExport rows: <span style=\"color: #008080; text-decoration-color: #008080; font-weight: bold\">125</span>\n",
       "</pre>\n"
      ],
      "text/plain": [
       "Table: AgLastCatalogExport rows: \u001b[1;36m125\u001b[0m\n"
      ]
     },
     "metadata": {},
     "output_type": "display_data"
    },
    {
     "data": {
      "text/html": [
       "<pre style=\"white-space:pre;overflow-x:auto;line-height:normal;font-family:Menlo,'DejaVu Sans Mono',consolas,'Courier New',monospace\">Table: AgLibraryCollectionStackData rows: <span style=\"color: #008080; text-decoration-color: #008080; font-weight: bold\">126</span>\n",
       "</pre>\n"
      ],
      "text/plain": [
       "Table: AgLibraryCollectionStackData rows: \u001b[1;36m126\u001b[0m\n"
      ]
     },
     "metadata": {},
     "output_type": "display_data"
    },
    {
     "data": {
      "text/html": [
       "<pre style=\"white-space:pre;overflow-x:auto;line-height:normal;font-family:Menlo,'DejaVu Sans Mono',consolas,'Courier New',monospace\">Table: AgLibraryFolderStackData rows: <span style=\"color: #008080; text-decoration-color: #008080; font-weight: bold\">127</span>\n",
       "</pre>\n"
      ],
      "text/plain": [
       "Table: AgLibraryFolderStackData rows: \u001b[1;36m127\u001b[0m\n"
      ]
     },
     "metadata": {},
     "output_type": "display_data"
    },
    {
     "data": {
      "text/html": [
       "<pre style=\"white-space:pre;overflow-x:auto;line-height:normal;font-family:Menlo,'DejaVu Sans Mono',consolas,'Courier New',monospace\">Table: LrMobileSyncChangeCounter rows: <span style=\"color: #008080; text-decoration-color: #008080; font-weight: bold\">128</span>\n",
       "</pre>\n"
      ],
      "text/plain": [
       "Table: LrMobileSyncChangeCounter rows: \u001b[1;36m128\u001b[0m\n"
      ]
     },
     "metadata": {},
     "output_type": "display_data"
    },
    {
     "data": {
      "text/html": [
       "<pre style=\"white-space:pre;overflow-x:auto;line-height:normal;font-family:Menlo,'DejaVu Sans Mono',consolas,'Courier New',monospace\">Table: AgLibraryCollectionTrackedAssets rows: <span style=\"color: #008080; text-decoration-color: #008080; font-weight: bold\">131</span>\n",
       "</pre>\n"
      ],
      "text/plain": [
       "Table: AgLibraryCollectionTrackedAssets rows: \u001b[1;36m131\u001b[0m\n"
      ]
     },
     "metadata": {},
     "output_type": "display_data"
    },
    {
     "data": {
      "text/html": [
       "<pre style=\"white-space:pre;overflow-x:auto;line-height:normal;font-family:Menlo,'DejaVu Sans Mono',consolas,'Courier New',monospace\">Table: AgLibraryImageChangeCounter rows: <span style=\"color: #008080; text-decoration-color: #008080; font-weight: bold\">132</span>\n",
       "</pre>\n"
      ],
      "text/plain": [
       "Table: AgLibraryImageChangeCounter rows: \u001b[1;36m132\u001b[0m\n"
      ]
     },
     "metadata": {},
     "output_type": "display_data"
    },
    {
     "data": {
      "text/html": [
       "<pre style=\"white-space:pre;overflow-x:auto;line-height:normal;font-family:Menlo,'DejaVu Sans Mono',consolas,'Courier New',monospace\">Table: AgLibraryImageOzAssetIds rows: <span style=\"color: #008080; text-decoration-color: #008080; font-weight: bold\">134</span>\n",
       "</pre>\n"
      ],
      "text/plain": [
       "Table: AgLibraryImageOzAssetIds rows: \u001b[1;36m134\u001b[0m\n"
      ]
     },
     "metadata": {},
     "output_type": "display_data"
    },
    {
     "data": {
      "text/html": [
       "<pre style=\"white-space:pre;overflow-x:auto;line-height:normal;font-family:Menlo,'DejaVu Sans Mono',consolas,'Courier New',monospace\">Table: AgDeletedOzAssetIds rows: <span style=\"color: #008080; text-decoration-color: #008080; font-weight: bold\">135</span>\n",
       "</pre>\n"
      ],
      "text/plain": [
       "Table: AgDeletedOzAssetIds rows: \u001b[1;36m135\u001b[0m\n"
      ]
     },
     "metadata": {},
     "output_type": "display_data"
    },
    {
     "data": {
      "text/html": [
       "<pre style=\"white-space:pre;overflow-x:auto;line-height:normal;font-family:Menlo,'DejaVu Sans Mono',consolas,'Courier New',monospace\">Table: AgLibraryImageSyncedAssetData rows: <span style=\"color: #008080; text-decoration-color: #008080; font-weight: bold\">136</span>\n",
       "</pre>\n"
      ],
      "text/plain": [
       "Table: AgLibraryImageSyncedAssetData rows: \u001b[1;36m136\u001b[0m\n"
      ]
     },
     "metadata": {},
     "output_type": "display_data"
    },
    {
     "data": {
      "text/html": [
       "<pre style=\"white-space:pre;overflow-x:auto;line-height:normal;font-family:Menlo,'DejaVu Sans Mono',consolas,'Courier New',monospace\">Table: AgPendingOzAssetBinaryDownloads rows: <span style=\"color: #008080; text-decoration-color: #008080; font-weight: bold\">137</span>\n",
       "</pre>\n"
      ],
      "text/plain": [
       "Table: AgPendingOzAssetBinaryDownloads rows: \u001b[1;36m137\u001b[0m\n"
      ]
     },
     "metadata": {},
     "output_type": "display_data"
    },
    {
     "data": {
      "text/html": [
       "<pre style=\"white-space:pre;overflow-x:auto;line-height:normal;font-family:Menlo,'DejaVu Sans Mono',consolas,'Courier New',monospace\">Table: AgPendingOzAssets rows: <span style=\"color: #008080; text-decoration-color: #008080; font-weight: bold\">138</span>\n",
       "</pre>\n"
      ],
      "text/plain": [
       "Table: AgPendingOzAssets rows: \u001b[1;36m138\u001b[0m\n"
      ]
     },
     "metadata": {},
     "output_type": "display_data"
    },
    {
     "data": {
      "text/html": [
       "<pre style=\"white-space:pre;overflow-x:auto;line-height:normal;font-family:Menlo,'DejaVu Sans Mono',consolas,'Courier New',monospace\">Table: AgPendingOzDocs rows: <span style=\"color: #008080; text-decoration-color: #008080; font-weight: bold\">139</span>\n",
       "</pre>\n"
      ],
      "text/plain": [
       "Table: AgPendingOzDocs rows: \u001b[1;36m139\u001b[0m\n"
      ]
     },
     "metadata": {},
     "output_type": "display_data"
    },
    {
     "data": {
      "text/html": [
       "<pre style=\"white-space:pre;overflow-x:auto;line-height:normal;font-family:Menlo,'DejaVu Sans Mono',consolas,'Courier New',monospace\">Table: AgPendingOzUploads rows: <span style=\"color: #008080; text-decoration-color: #008080; font-weight: bold\">141</span>\n",
       "</pre>\n"
      ],
      "text/plain": [
       "Table: AgPendingOzUploads rows: \u001b[1;36m141\u001b[0m\n"
      ]
     },
     "metadata": {},
     "output_type": "display_data"
    },
    {
     "data": {
      "text/html": [
       "<pre style=\"white-space:pre;overflow-x:auto;line-height:normal;font-family:Menlo,'DejaVu Sans Mono',consolas,'Courier New',monospace\">Table: AgUnsupportedOzAssets rows: <span style=\"color: #008080; text-decoration-color: #008080; font-weight: bold\">142</span>\n",
       "</pre>\n"
      ],
      "text/plain": [
       "Table: AgUnsupportedOzAssets rows: \u001b[1;36m142\u001b[0m\n"
      ]
     },
     "metadata": {},
     "output_type": "display_data"
    },
    {
     "data": {
      "text/html": [
       "<pre style=\"white-space:pre;overflow-x:auto;line-height:normal;font-family:Menlo,'DejaVu Sans Mono',consolas,'Courier New',monospace\">Table: AgOzAssetSettings rows: <span style=\"color: #008080; text-decoration-color: #008080; font-weight: bold\">143</span>\n",
       "</pre>\n"
      ],
      "text/plain": [
       "Table: AgOzAssetSettings rows: \u001b[1;36m143\u001b[0m\n"
      ]
     },
     "metadata": {},
     "output_type": "display_data"
    },
    {
     "data": {
      "text/html": [
       "<pre style=\"white-space:pre;overflow-x:auto;line-height:normal;font-family:Menlo,'DejaVu Sans Mono',consolas,'Courier New',monospace\">Table: AgOzDocRevIds rows: <span style=\"color: #008080; text-decoration-color: #008080; font-weight: bold\">145</span>\n",
       "</pre>\n"
      ],
      "text/plain": [
       "Table: AgOzDocRevIds rows: \u001b[1;36m145\u001b[0m\n"
      ]
     },
     "metadata": {},
     "output_type": "display_data"
    },
    {
     "data": {
      "text/html": [
       "<pre style=\"white-space:pre;overflow-x:auto;line-height:normal;font-family:Menlo,'DejaVu Sans Mono',consolas,'Courier New',monospace\">Table: AgPendingOzAssetDevelopSettings rows: <span style=\"color: #008080; text-decoration-color: #008080; font-weight: bold\">147</span>\n",
       "</pre>\n"
      ],
      "text/plain": [
       "Table: AgPendingOzAssetDevelopSettings rows: \u001b[1;36m147\u001b[0m\n"
      ]
     },
     "metadata": {},
     "output_type": "display_data"
    },
    {
     "data": {
      "text/html": [
       "<pre style=\"white-space:pre;overflow-x:auto;line-height:normal;font-family:Menlo,'DejaVu Sans Mono',consolas,'Courier New',monospace\">Table: AgPendingOzAuxBinaryDownloads rows: <span style=\"color: #008080; text-decoration-color: #008080; font-weight: bold\">148</span>\n",
       "</pre>\n"
      ],
      "text/plain": [
       "Table: AgPendingOzAuxBinaryDownloads rows: \u001b[1;36m148\u001b[0m\n"
      ]
     },
     "metadata": {},
     "output_type": "display_data"
    },
    {
     "data": {
      "text/html": [
       "<pre style=\"white-space:pre;overflow-x:auto;line-height:normal;font-family:Menlo,'DejaVu Sans Mono',consolas,'Courier New',monospace\">Table: AgLibraryCollectionChangeCounter rows: <span style=\"color: #008080; text-decoration-color: #008080; font-weight: bold\">150</span>\n",
       "</pre>\n"
      ],
      "text/plain": [
       "Table: AgLibraryCollectionChangeCounter rows: \u001b[1;36m150\u001b[0m\n"
      ]
     },
     "metadata": {},
     "output_type": "display_data"
    },
    {
     "data": {
      "text/html": [
       "<pre style=\"white-space:pre;overflow-x:auto;line-height:normal;font-family:Menlo,'DejaVu Sans Mono',consolas,'Courier New',monospace\">Table: AgLibraryCollectionOzAlbumIds rows: <span style=\"color: #008080; text-decoration-color: #008080; font-weight: bold\">152</span>\n",
       "</pre>\n"
      ],
      "text/plain": [
       "Table: AgLibraryCollectionOzAlbumIds rows: \u001b[1;36m152\u001b[0m\n"
      ]
     },
     "metadata": {},
     "output_type": "display_data"
    },
    {
     "data": {
      "text/html": [
       "<pre style=\"white-space:pre;overflow-x:auto;line-height:normal;font-family:Menlo,'DejaVu Sans Mono',consolas,'Courier New',monospace\">Table: AgDeletedOzAlbumIds rows: <span style=\"color: #008080; text-decoration-color: #008080; font-weight: bold\">153</span>\n",
       "</pre>\n"
      ],
      "text/plain": [
       "Table: AgDeletedOzAlbumIds rows: \u001b[1;36m153\u001b[0m\n"
      ]
     },
     "metadata": {},
     "output_type": "display_data"
    },
    {
     "data": {
      "text/html": [
       "<pre style=\"white-space:pre;overflow-x:auto;line-height:normal;font-family:Menlo,'DejaVu Sans Mono',consolas,'Courier New',monospace\">Table: AgLibraryCollectionSyncedAlbumData rows: <span style=\"color: #008080; text-decoration-color: #008080; font-weight: bold\">154</span>\n",
       "</pre>\n"
      ],
      "text/plain": [
       "Table: AgLibraryCollectionSyncedAlbumData rows: \u001b[1;36m154\u001b[0m\n"
      ]
     },
     "metadata": {},
     "output_type": "display_data"
    },
    {
     "data": {
      "text/html": [
       "<pre style=\"white-space:pre;overflow-x:auto;line-height:normal;font-family:Menlo,'DejaVu Sans Mono',consolas,'Courier New',monospace\">Table: AgLibraryCollectionCoverImage rows: <span style=\"color: #008080; text-decoration-color: #008080; font-weight: bold\">155</span>\n",
       "</pre>\n"
      ],
      "text/plain": [
       "Table: AgLibraryCollectionCoverImage rows: \u001b[1;36m155\u001b[0m\n"
      ]
     },
     "metadata": {},
     "output_type": "display_data"
    },
    {
     "data": {
      "text/html": [
       "<pre style=\"white-space:pre;overflow-x:auto;line-height:normal;font-family:Menlo,'DejaVu Sans Mono',consolas,'Courier New',monospace\">Table: AgLibraryCollectionImageChangeCounter rows: <span style=\"color: #008080; text-decoration-color: #008080; font-weight: bold\">157</span>\n",
       "</pre>\n"
      ],
      "text/plain": [
       "Table: AgLibraryCollectionImageChangeCounter rows: \u001b[1;36m157\u001b[0m\n"
      ]
     },
     "metadata": {},
     "output_type": "display_data"
    },
    {
     "data": {
      "text/html": [
       "<pre style=\"white-space:pre;overflow-x:auto;line-height:normal;font-family:Menlo,'DejaVu Sans Mono',consolas,'Courier New',monospace\">Table: AgLibraryCollectionImageOzAlbumAssetIds rows: <span style=\"color: #008080; text-decoration-color: #008080; font-weight: bold\">159</span>\n",
       "</pre>\n"
      ],
      "text/plain": [
       "Table: AgLibraryCollectionImageOzAlbumAssetIds rows: \u001b[1;36m159\u001b[0m\n"
      ]
     },
     "metadata": {},
     "output_type": "display_data"
    },
    {
     "data": {
      "text/html": [
       "<pre style=\"white-space:pre;overflow-x:auto;line-height:normal;font-family:Menlo,'DejaVu Sans Mono',consolas,'Courier New',monospace\">Table: AgLibraryCollectionImageOzSortOrder rows: <span style=\"color: #008080; text-decoration-color: #008080; font-weight: bold\">160</span>\n",
       "</pre>\n"
      ],
      "text/plain": [
       "Table: AgLibraryCollectionImageOzSortOrder rows: \u001b[1;36m160\u001b[0m\n"
      ]
     },
     "metadata": {},
     "output_type": "display_data"
    },
    {
     "data": {
      "text/html": [
       "<pre style=\"white-space:pre;overflow-x:auto;line-height:normal;font-family:Menlo,'DejaVu Sans Mono',consolas,'Courier New',monospace\">Table: AgDeletedOzAlbumAssetIds rows: <span style=\"color: #008080; text-decoration-color: #008080; font-weight: bold\">162</span>\n",
       "</pre>\n"
      ],
      "text/plain": [
       "Table: AgDeletedOzAlbumAssetIds rows: \u001b[1;36m162\u001b[0m\n"
      ]
     },
     "metadata": {},
     "output_type": "display_data"
    },
    {
     "data": {
      "text/html": [
       "<pre style=\"white-space:pre;overflow-x:auto;line-height:normal;font-family:Menlo,'DejaVu Sans Mono',consolas,'Courier New',monospace\">Table: AgPendingOzAlbumAssetIds rows: <span style=\"color: #008080; text-decoration-color: #008080; font-weight: bold\">163</span>\n",
       "</pre>\n"
      ],
      "text/plain": [
       "Table: AgPendingOzAlbumAssetIds rows: \u001b[1;36m163\u001b[0m\n"
      ]
     },
     "metadata": {},
     "output_type": "display_data"
    },
    {
     "data": {
      "text/html": [
       "<pre style=\"white-space:pre;overflow-x:auto;line-height:normal;font-family:Menlo,'DejaVu Sans Mono',consolas,'Courier New',monospace\">Table: AgOzSpaceIds rows: <span style=\"color: #008080; text-decoration-color: #008080; font-weight: bold\">164</span>\n",
       "</pre>\n"
      ],
      "text/plain": [
       "Table: AgOzSpaceIds rows: \u001b[1;36m164\u001b[0m\n"
      ]
     },
     "metadata": {},
     "output_type": "display_data"
    },
    {
     "data": {
      "text/html": [
       "<pre style=\"white-space:pre;overflow-x:auto;line-height:normal;font-family:Menlo,'DejaVu Sans Mono',consolas,'Courier New',monospace\">Table: AgDeletedOzSpaceIds rows: <span style=\"color: #008080; text-decoration-color: #008080; font-weight: bold\">165</span>\n",
       "</pre>\n"
      ],
      "text/plain": [
       "Table: AgDeletedOzSpaceIds rows: \u001b[1;36m165\u001b[0m\n"
      ]
     },
     "metadata": {},
     "output_type": "display_data"
    },
    {
     "data": {
      "text/html": [
       "<pre style=\"white-space:pre;overflow-x:auto;line-height:normal;font-family:Menlo,'DejaVu Sans Mono',consolas,'Courier New',monospace\">Table: AgOzSpaceAlbumIds rows: <span style=\"color: #008080; text-decoration-color: #008080; font-weight: bold\">166</span>\n",
       "</pre>\n"
      ],
      "text/plain": [
       "Table: AgOzSpaceAlbumIds rows: \u001b[1;36m166\u001b[0m\n"
      ]
     },
     "metadata": {},
     "output_type": "display_data"
    },
    {
     "data": {
      "text/html": [
       "<pre style=\"white-space:pre;overflow-x:auto;line-height:normal;font-family:Menlo,'DejaVu Sans Mono',consolas,'Courier New',monospace\">Table: AgLibraryOzCommentIds rows: <span style=\"color: #008080; text-decoration-color: #008080; font-weight: bold\">167</span>\n",
       "</pre>\n"
      ],
      "text/plain": [
       "Table: AgLibraryOzCommentIds rows: \u001b[1;36m167\u001b[0m\n"
      ]
     },
     "metadata": {},
     "output_type": "display_data"
    },
    {
     "data": {
      "text/html": [
       "<pre style=\"white-space:pre;overflow-x:auto;line-height:normal;font-family:Menlo,'DejaVu Sans Mono',consolas,'Courier New',monospace\">Table: AgLibraryOzFavoriteIds rows: <span style=\"color: #008080; text-decoration-color: #008080; font-weight: bold\">168</span>\n",
       "</pre>\n"
      ],
      "text/plain": [
       "Table: AgLibraryOzFavoriteIds rows: \u001b[1;36m168\u001b[0m\n"
      ]
     },
     "metadata": {},
     "output_type": "display_data"
    },
    {
     "data": {
      "text/html": [
       "<pre style=\"white-space:pre;overflow-x:auto;line-height:normal;font-family:Menlo,'DejaVu Sans Mono',consolas,'Courier New',monospace\">Table: AgLibraryFileAssetMetadata rows: <span style=\"color: #008080; text-decoration-color: #008080; font-weight: bold\">169</span>\n",
       "</pre>\n"
      ],
      "text/plain": [
       "Table: AgLibraryFileAssetMetadata rows: \u001b[1;36m169\u001b[0m\n"
      ]
     },
     "metadata": {},
     "output_type": "display_data"
    },
    {
     "data": {
      "text/html": [
       "<pre style=\"white-space:pre;overflow-x:auto;line-height:normal;font-family:Menlo,'DejaVu Sans Mono',consolas,'Courier New',monospace\">Table: AgOzAuxBinaryMetadata rows: <span style=\"color: #008080; text-decoration-color: #008080; font-weight: bold\">172</span>\n",
       "</pre>\n"
      ],
      "text/plain": [
       "Table: AgOzAuxBinaryMetadata rows: \u001b[1;36m172\u001b[0m\n"
      ]
     },
     "metadata": {},
     "output_type": "display_data"
    },
    {
     "data": {
      "text/html": [
       "<pre style=\"white-space:pre;overflow-x:auto;line-height:normal;font-family:Menlo,'DejaVu Sans Mono',consolas,'Courier New',monospace\">Table: AgOzCorruptedAuxIds rows: <span style=\"color: #008080; text-decoration-color: #008080; font-weight: bold\">173</span>\n",
       "</pre>\n"
      ],
      "text/plain": [
       "Table: AgOzCorruptedAuxIds rows: \u001b[1;36m173\u001b[0m\n"
      ]
     },
     "metadata": {},
     "output_type": "display_data"
    },
    {
     "data": {
      "text/html": [
       "<pre style=\"white-space:pre;overflow-x:auto;line-height:normal;font-family:Menlo,'DejaVu Sans Mono',consolas,'Courier New',monospace\">Table: MigrationSchemaVersion rows: <span style=\"color: #008080; text-decoration-color: #008080; font-weight: bold\">174</span>\n",
       "</pre>\n"
      ],
      "text/plain": [
       "Table: MigrationSchemaVersion rows: \u001b[1;36m174\u001b[0m\n"
      ]
     },
     "metadata": {},
     "output_type": "display_data"
    },
    {
     "data": {
      "text/html": [
       "<pre style=\"white-space:pre;overflow-x:auto;line-height:normal;font-family:Menlo,'DejaVu Sans Mono',consolas,'Courier New',monospace\">Table: MigratedImages rows: <span style=\"color: #008080; text-decoration-color: #008080; font-weight: bold\">176</span>\n",
       "</pre>\n"
      ],
      "text/plain": [
       "Table: MigratedImages rows: \u001b[1;36m176\u001b[0m\n"
      ]
     },
     "metadata": {},
     "output_type": "display_data"
    },
    {
     "data": {
      "text/html": [
       "<pre style=\"white-space:pre;overflow-x:auto;line-height:normal;font-family:Menlo,'DejaVu Sans Mono',consolas,'Courier New',monospace\">Table: MigratedCollections rows: <span style=\"color: #008080; text-decoration-color: #008080; font-weight: bold\">178</span>\n",
       "</pre>\n"
      ],
      "text/plain": [
       "Table: MigratedCollections rows: \u001b[1;36m178\u001b[0m\n"
      ]
     },
     "metadata": {},
     "output_type": "display_data"
    },
    {
     "data": {
      "text/html": [
       "<pre style=\"white-space:pre;overflow-x:auto;line-height:normal;font-family:Menlo,'DejaVu Sans Mono',consolas,'Courier New',monospace\">Table: MigratedCollectionImages rows: <span style=\"color: #008080; text-decoration-color: #008080; font-weight: bold\">180</span>\n",
       "</pre>\n"
      ],
      "text/plain": [
       "Table: MigratedCollectionImages rows: \u001b[1;36m180\u001b[0m\n"
      ]
     },
     "metadata": {},
     "output_type": "display_data"
    },
    {
     "data": {
      "text/html": [
       "<pre style=\"white-space:pre;overflow-x:auto;line-height:normal;font-family:Menlo,'DejaVu Sans Mono',consolas,'Courier New',monospace\">Table: MigratedInfo rows: <span style=\"color: #008080; text-decoration-color: #008080; font-weight: bold\">182</span>\n",
       "</pre>\n"
      ],
      "text/plain": [
       "Table: MigratedInfo rows: \u001b[1;36m182\u001b[0m\n"
      ]
     },
     "metadata": {},
     "output_type": "display_data"
    },
    {
     "data": {
      "text/html": [
       "<pre style=\"white-space:pre;overflow-x:auto;line-height:normal;font-family:Menlo,'DejaVu Sans Mono',consolas,'Courier New',monospace\">Table: sqlite_stat1 rows: <span style=\"color: #008080; text-decoration-color: #008080; font-weight: bold\">184</span>\n",
       "</pre>\n"
      ],
      "text/plain": [
       "Table: sqlite_stat1 rows: \u001b[1;36m184\u001b[0m\n"
      ]
     },
     "metadata": {},
     "output_type": "display_data"
    },
    {
     "data": {
      "text/html": [
       "<pre style=\"white-space:pre;overflow-x:auto;line-height:normal;font-family:Menlo,'DejaVu Sans Mono',consolas,'Courier New',monospace\">Table: sqlite_stat4 rows: <span style=\"color: #008080; text-decoration-color: #008080; font-weight: bold\">185</span>\n",
       "</pre>\n"
      ],
      "text/plain": [
       "Table: sqlite_stat4 rows: \u001b[1;36m185\u001b[0m\n"
      ]
     },
     "metadata": {},
     "output_type": "display_data"
    }
   ],
   "source": [
    "list_tables(lrcat)"
   ]
  },
  {
   "cell_type": "code",
   "execution_count": 4,
   "id": "b27f07e6-11b6-4994-8df5-db2ea2b8eb5d",
   "metadata": {},
   "outputs": [
    {
     "name": "stdout",
     "output_type": "stream",
     "text": [
      "\n",
      "\n",
      "\u001b7\u001b[1A\u001b[1G\u001b[27G[Files: 0  Bytes: 0  [0 B/s] Re]\u001b8\u001b7\u001b[2A\u001b[1G\u001b[27G[https://raw.githubusercontent.]\u001b8\u001b7\u001b[1S\u001b[3A\u001b[1G\u001b[0JSaving 'example-full.yaml'\n",
      "\u001b8\u001b7\u001b[2A\u001b[1Gexample-full.yaml    100% [=============================>]    2.86K    --.-KB/s\u001b8\u001b7\u001b[1S\u001b[3A\u001b[1G\u001b[0JHTTP response 200  [https://raw.githubusercontent.com/ray-project/ray/master/python/ray/autoscaler/local/example-full.yaml]\n",
      "\u001b8\u001b7\u001b[2A\u001b[1Gexample-full.yaml    100% [=============================>]    2.86K    --.-KB/s\u001b8\u001b7\u001b[1A\u001b[1G\u001b[27G[Files: 1  Bytes: 2.86K [6.35KB]\u001b8\u001b[m\u001b[m\u001b[m\u001b[m"
     ]
    }
   ],
   "source": []
  },
  {
   "cell_type": "code",
   "execution_count": null,
   "id": "e126d4ff-9711-4bc1-97b2-496626fd9bc2",
   "metadata": {},
   "outputs": [],
   "source": []
  }
 ],
 "metadata": {
  "kernelspec": {
   "display_name": "Python 3 (ipykernel)",
   "language": "python",
   "name": "python3"
  },
  "language_info": {
   "codemirror_mode": {
    "name": "ipython",
    "version": 3
   },
   "file_extension": ".py",
   "mimetype": "text/x-python",
   "name": "python",
   "nbconvert_exporter": "python",
   "pygments_lexer": "ipython3",
   "version": "3.12.10"
  }
 },
 "nbformat": 4,
 "nbformat_minor": 5
}
